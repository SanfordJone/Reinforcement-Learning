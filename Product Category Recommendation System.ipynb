{
 "cells": [
  {
   "cell_type": "code",
   "execution_count": 6,
   "id": "41a18a8a",
   "metadata": {},
   "outputs": [],
   "source": [
    "import pandas as pd\n",
    "import numpy as np\n",
    "from sklearn.preprocessing import StandardScaler\n",
    "from sklearn.metrics.pairwise import cosine_similarity\n",
    "import matplotlib.pyplot as plt\n",
    "import seaborn as sns"
   ]
  },
  {
   "cell_type": "code",
   "execution_count": 7,
   "id": "590b456c",
   "metadata": {},
   "outputs": [],
   "source": [
    "def create_product_features(df: pd.DataFrame):\n",
    "\n",
    "    product_metrics = df.groupby('product_id').agg({\n",
    "        'price': ['mean', 'std'],\n",
    "        'review_score': ['mean', 'count'],\n",
    "        'freight_value': 'mean',\n",
    "        'product_category_name_english': 'first'\n",
    "    }).round(2)\n",
    "    \n",
    "    product_metrics.columns = ['avg_price', 'price_std', 'avg_rating', \n",
    "                             'review_count', 'avg_freight', 'category']\n",
    "    \n",
    "    product_metrics = product_metrics.fillna({\n",
    "        'price_std': 0,\n",
    "        'avg_rating': product_metrics['avg_rating'].mean()\n",
    "    })\n",
    "    \n",
    "    return product_metrics"
   ]
  },
  {
   "cell_type": "code",
   "execution_count": 8,
   "id": "15e9642c",
   "metadata": {},
   "outputs": [],
   "source": [
    "def calculate_similarity(product_metrics: pd.DataFrame):\n",
    "    features = ['avg_price', 'avg_rating', 'review_count', 'avg_freight']\n",
    "    \n",
    "    scaler = StandardScaler()\n",
    "    scaled_features = scaler.fit_transform(product_metrics[features])\n",
    "    \n",
    "    similarity_matrix = cosine_similarity(scaled_features)\n",
    "    \n",
    "    return pd.DataFrame(\n",
    "        similarity_matrix, \n",
    "        index=product_metrics.index, \n",
    "        columns=product_metrics.index\n",
    "    )\n"
   ]
  },
  {
   "cell_type": "code",
   "execution_count": 9,
   "id": "db5601f7",
   "metadata": {},
   "outputs": [],
   "source": [
    "def get_recommendations(product_id: str, \n",
    "                       similarity_matrix: pd.DataFrame,\n",
    "                       product_metrics: pd.DataFrame,\n",
    "                       n_recommendations: int = 5):\n",
    "    if product_id not in similarity_matrix.index:\n",
    "        return None\n",
    "    \n",
    "    similar_scores = similarity_matrix[product_id]\n",
    "    similar_products = similar_scores.sort_values(ascending=False)[1:n_recommendations+1]\n",
    "    \n",
    "    recommendations = product_metrics.loc[similar_products.index]\n",
    "    recommendations['similarity_score'] = similar_products.values\n",
    "    \n",
    "    return recommendations\n"
   ]
  },
  {
   "cell_type": "code",
   "execution_count": 10,
   "id": "dc92a24e",
   "metadata": {},
   "outputs": [],
   "source": [
    "def visualize_recommendations(original_product: pd.Series, \n",
    "                            recommendations: pd.DataFrame):\n",
    "    fig, (ax1, ax2) = plt.subplots(1, 2, figsize=(15, 6))\n",
    "    \n",
    "    prices = [original_product['avg_price']] + recommendations['avg_price'].tolist()\n",
    "    labels = ['Original'] + [f'Rec {i+1}' for i in range(len(recommendations))]\n",
    "    \n",
    "    ax1.bar(labels, prices)\n",
    "    ax1.set_title('Price Comparison')\n",
    "    ax1.set_ylabel('Price (BRL)')\n",
    "    ax1.tick_params(axis='x', rotation=45)\n",
    "    \n",
    "    ratings = [original_product['avg_rating']] + recommendations['avg_rating'].tolist()\n",
    "    \n",
    "    ax2.bar(labels, ratings)\n",
    "    ax2.set_title('Rating Comparison')\n",
    "    ax2.set_ylabel('Average Rating')\n",
    "    ax2.tick_params(axis='x', rotation=45)\n",
    "    \n",
    "    plt.tight_layout()\n",
    "    return fig\n"
   ]
  },
  {
   "cell_type": "code",
   "execution_count": 11,
   "id": "a081245f",
   "metadata": {},
   "outputs": [],
   "source": [
    "orders = pd.read_csv(r\"olist_orders_dataset.csv\")\n",
    "order_items = pd.read_csv(r\"olist_order_items_dataset.csv\")\n",
    "products = pd.read_csv(r\"olist_products_dataset.csv\")\n",
    "reviews = pd.read_csv(r\"olist_order_reviews_dataset.csv\")\n",
    "categories = pd.read_csv(r\"product_category_name_translation.csv\")"
   ]
  },
  {
   "cell_type": "code",
   "execution_count": 12,
   "id": "c65e2016",
   "metadata": {},
   "outputs": [],
   "source": [
    "df = order_items.merge(products, on='product_id')\n",
    "df = df.merge(reviews[['order_id', 'review_score']], on='order_id')\n",
    "df = df.merge(categories, on='product_category_name')"
   ]
  },
  {
   "cell_type": "code",
   "execution_count": 13,
   "id": "23a4687e",
   "metadata": {},
   "outputs": [],
   "source": [
    "product_metrics = create_product_features(df)\n",
    "similarity_matrix = calculate_similarity(product_metrics)"
   ]
  },
  {
   "cell_type": "code",
   "execution_count": 14,
   "id": "bd4c5aef",
   "metadata": {},
   "outputs": [],
   "source": [
    "sample_product_id = product_metrics.index[0]\n",
    "original_product = product_metrics.loc[sample_product_id]"
   ]
  },
  {
   "cell_type": "code",
   "execution_count": 15,
   "id": "3e89b70a",
   "metadata": {},
   "outputs": [
    {
     "name": "stdout",
     "output_type": "stream",
     "text": [
      "\n",
      "Original Product:\n",
      "Category: perfumery\n",
      "Average Price: R$101.65\n",
      "Average Rating: 5.00\n",
      "Review Count: 1\n"
     ]
    }
   ],
   "source": [
    "print(\"\\nOriginal Product:\")\n",
    "print(f\"Category: {original_product['category']}\")\n",
    "print(f\"Average Price: R${original_product['avg_price']:.2f}\")\n",
    "print(f\"Average Rating: {original_product['avg_rating']:.2f}\")\n",
    "print(f\"Review Count: {original_product['review_count']}\")"
   ]
  },
  {
   "cell_type": "code",
   "execution_count": 16,
   "id": "e1e700c6",
   "metadata": {},
   "outputs": [
    {
     "name": "stdout",
     "output_type": "stream",
     "text": [
      "\n",
      "Recommended Products:\n",
      "\n",
      "Product ID: db7d6b1e3bbc3a8afae8fdee3cca3ee5\n",
      "Category: construction_tools_construction\n",
      "Average Price: R$99.97\n",
      "Average Rating: 5.00\n",
      "Review Count: 1\n",
      "Similarity Score: 1.000\n",
      "\n",
      "Product ID: d934b48db429df3e1f8af7e7368489ee\n",
      "Category: baby\n",
      "Average Price: R$99.90\n",
      "Average Rating: 5.00\n",
      "Review Count: 1\n",
      "Similarity Score: 1.000\n",
      "\n",
      "Product ID: de080af2646decbba6b52a3213110d29\n",
      "Category: computers_accessories\n",
      "Average Price: R$99.90\n",
      "Average Rating: 5.00\n",
      "Review Count: 1\n",
      "Similarity Score: 1.000\n",
      "\n",
      "Product ID: 3560066ba5a5b4f87a8d5de6da565792\n",
      "Category: health_beauty\n",
      "Average Price: R$102.99\n",
      "Average Rating: 5.00\n",
      "Review Count: 1\n",
      "Similarity Score: 1.000\n",
      "\n",
      "Product ID: d4670fa6cc31ee979c4cbd5904e0562a\n",
      "Category: computers_accessories\n",
      "Average Price: R$99.00\n",
      "Average Rating: 5.00\n",
      "Review Count: 1\n",
      "Similarity Score: 1.000\n"
     ]
    }
   ],
   "source": [
    "recommendations = get_recommendations(\n",
    "    sample_product_id, \n",
    "    similarity_matrix, \n",
    "    product_metrics\n",
    ")\n",
    "\n",
    "print(\"\\nRecommended Products:\")\n",
    "for idx, row in recommendations.iterrows():\n",
    "    print(f\"\\nProduct ID: {idx}\")\n",
    "    print(f\"Category: {row['category']}\")\n",
    "    print(f\"Average Price: R${row['avg_price']:.2f}\")\n",
    "    print(f\"Average Rating: {row['avg_rating']:.2f}\")\n",
    "    print(f\"Review Count: {row['review_count']}\")\n",
    "    print(f\"Similarity Score: {row['similarity_score']:.3f}\")"
   ]
  },
  {
   "cell_type": "code",
   "execution_count": 17,
   "id": "275ba71a",
   "metadata": {},
   "outputs": [
    {
     "data": {
      "image/png": "[encoded data removed]",
      "text/plain": [
       "<Figure size 1080x432 with 2 Axes>"
      ]
     },
     "metadata": {
      "needs_background": "light"
     },
     "output_type": "display_data"
    }
   ],
   "source": [
    "visualize_recommendations(original_product, recommendations)\n",
    "plt.show()"
   ]
  },
  {
   "cell_type": "code",
   "execution_count": null,
   "id": "2426aa35",
   "metadata": {},
   "outputs": [],
   "source": []
  }
 ],
 "metadata": {
  "kernelspec": {
   "display_name": "Python 3",
   "language": "python",
   "name": "python3"
  },
  "language_info": {
   "codemirror_mode": {
    "name": "ipython",
    "version": 3
   },
   "file_extension": ".py",
   "mimetype": "text/x-python",
   "name": "python",
   "nbconvert_exporter": "python",
   "pygments_lexer": "ipython3",
   "version": "3.8.8"
  }
 },
 "nbformat": 4,
 "nbformat_minor": 5
}
