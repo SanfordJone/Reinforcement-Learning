{
 "cells": [
  {
   "cell_type": "code",
   "execution_count": 1,
   "id": "19186b3e",
   "metadata": {},
   "outputs": [],
   "source": [
    "import pandas as pd\n",
    "import numpy as np\n",
    "from scipy.stats import beta\n",
    "import random\n",
    "import matplotlib.pyplot as plt\n",
    "import seaborn as sns\n",
    "from typing import Dict, List, Tuple\n",
    "from datetime import datetime"
   ]
  },
  {
   "cell_type": "code",
   "execution_count": 4,
   "id": "43cf379d",
   "metadata": {},
   "outputs": [],
   "source": [
    "orders = pd.read_csv(r\"olist_orders_dataset.csv\")\n",
    "order_items = pd.read_csv(r\"olist_order_items_dataset.csv\")\n",
    "products = pd.read_csv(r\"olist_products_dataset.csv\")\n",
    "reviews = pd.read_csv(r\"olist_order_reviews_dataset.csv\")\n",
    "categories_translation = pd.read_csv(r\"product_category_name_translation.csv\")\n",
    "    \n",
    "    \n",
    "products = products.merge(\n",
    "    categories_translation, \n",
    "    on='product_category_name', \n",
    "    how='left'\n",
    ")"
   ]
  },
  {
   "cell_type": "code",
   "execution_count": 5,
   "id": "6e73207c",
   "metadata": {},
   "outputs": [],
   "source": [
    "def prepare_category_data(orders: pd.DataFrame, \n",
    "                         order_items: pd.DataFrame,\n",
    "                         products: pd.DataFrame,\n",
    "                         reviews: pd.DataFrame) -> pd.DataFrame:\n",
    "    df = orders.merge(order_items, on='order_id')\n",
    "    df = df.merge(products[['product_id', 'product_category_name_english']], on='product_id')\n",
    "    df = df.merge(reviews[['order_id', 'review_score']], on='order_id')\n",
    "    \n",
    "    category_metrics = df.groupby('product_category_name_english').agg({\n",
    "        'order_id': 'count',\n",
    "        'review_score': ['mean', 'count'],\n",
    "        'price': ['mean', 'std']\n",
    "    }).round(2)\n",
    "    \n",
    "    category_metrics.columns = ['total_orders', 'avg_review', 'review_count', 'avg_price', 'price_std']\n",
    "    return category_metrics.reset_index()"
   ]
  },
  {
   "cell_type": "code",
   "execution_count": 6,
   "id": "83558609",
   "metadata": {},
   "outputs": [],
   "source": [
    "def initialize_bandit_metrics(categories: List[str]) -> Dict:\n",
    "    \n",
    "    return {\n",
    "        cat: {\n",
    "            'alpha': 1.0,  # Prior success\n",
    "            'beta': 1.0,   # Prior failure\n",
    "            'trials': 0,\n",
    "            'successes': 0\n",
    "        }\n",
    "        for cat in categories\n",
    "    }"
   ]
  },
  {
   "cell_type": "code",
   "execution_count": 7,
   "id": "e3e725da",
   "metadata": {},
   "outputs": [],
   "source": [
    "def get_recommendation(bandit_metrics: Dict) -> str:\n",
    "   \n",
    "    samples = {\n",
    "        cat: beta.rvs(metrics['alpha'], metrics['beta'])\n",
    "        for cat, metrics in bandit_metrics.items()\n",
    "    }\n",
    "    return max(samples.items(), key=lambda x: x[1])[0]"
   ]
  },
  {
   "cell_type": "code",
   "execution_count": 8,
   "id": "cde74fb4",
   "metadata": {},
   "outputs": [],
   "source": [
    "def update_metrics(bandit_metrics: Dict, \n",
    "                  category: str, \n",
    "                  success: bool) -> Dict:\n",
    "   \n",
    "    metrics = bandit_metrics[category]\n",
    "    metrics['trials'] += 1\n",
    "    if success:\n",
    "        metrics['alpha'] += 1\n",
    "        metrics['successes'] += 1\n",
    "    else:\n",
    "        metrics['beta'] += 1\n",
    "    return bandit_metrics"
   ]
  },
  {
   "cell_type": "code",
   "execution_count": 9,
   "id": "2c4cd885",
   "metadata": {},
   "outputs": [],
   "source": [
    "def calculate_category_success_rates(df: pd.DataFrame) -> Dict[str, float]:\n",
    "   \n",
    "    success_rates = {}\n",
    "    for category in df['product_category_name_english'].unique():\n",
    "        category_reviews = df[df['product_category_name_english'] == category]['review_score']\n",
    "        success_rates[category] = (category_reviews >= 4).mean()\n",
    "    return success_rates"
   ]
  },
  {
   "cell_type": "code",
   "execution_count": 10,
   "id": "d02389f1",
   "metadata": {},
   "outputs": [],
   "source": [
    "def simulate_recommendations(category_data: pd.DataFrame, \n",
    "                           n_iterations: int = 1000) -> Tuple[Dict, List]:\n",
    "   \n",
    "    categories = category_data['product_category_name_english'].tolist()\n",
    "    bandit_metrics = initialize_bandit_metrics(categories)\n",
    "    \n",
    "    true_rates = dict(zip(\n",
    "        category_data['product_category_name_english'],\n",
    "        (category_data['avg_review'] >= 4).astype(float)\n",
    "    ))\n",
    "    \n",
    "    history = []\n",
    "    \n",
    "    for i in range(n_iterations):\n",
    "        recommended_category = get_recommendation(bandit_metrics)\n",
    "        \n",
    "        success = random.random() < true_rates[recommended_category]\n",
    "        \n",
    "        bandit_metrics = update_metrics(bandit_metrics, recommended_category, success)\n",
    "        \n",
    "        if i % 50 == 0:  \n",
    "            history.append({\n",
    "                'iteration': i,\n",
    "                'category': recommended_category,\n",
    "                'success': success,\n",
    "                'metrics': {\n",
    "                    cat: {\n",
    "                        'success_rate': m['successes'] / m['trials'] if m['trials'] > 0 else 0,\n",
    "                        'trials': m['trials']\n",
    "                    }\n",
    "                    for cat, m in bandit_metrics.items()\n",
    "                }\n",
    "            })\n",
    "    \n",
    "    return bandit_metrics, history"
   ]
  },
  {
   "cell_type": "code",
   "execution_count": 11,
   "id": "20ac09b1",
   "metadata": {},
   "outputs": [],
   "source": [
    "def plot_results(history: List, category_data: pd.DataFrame):\n",
    "    \n",
    "    plt.figure(figsize=(15, 8))\n",
    "    \n",
    "    top_categories = category_data.nlargest(5, 'total_orders')['product_category_name_english']\n",
    "    \n",
    "    for category in top_categories:\n",
    "        rates = []\n",
    "        iterations = []\n",
    "        \n",
    "        for h in history:\n",
    "            if category in h['metrics']:\n",
    "                rates.append(h['metrics'][category]['success_rate'])\n",
    "                iterations.append(h['iteration'])\n",
    "        \n",
    "        plt.plot(iterations, rates, label=category)\n",
    "    \n",
    "    plt.xlabel('Iteration')\n",
    "    plt.ylabel('Success Rate')\n",
    "    plt.title('Category Success Rates Over Time')\n",
    "    plt.legend(bbox_to_anchor=(1.05, 1), loc='upper left')\n",
    "    plt.tight_layout()\n",
    "    plt.grid(True)\n",
    "    return plt"
   ]
  },
  {
   "cell_type": "code",
   "execution_count": 12,
   "id": "fbf05124",
   "metadata": {},
   "outputs": [
    {
     "name": "stdout",
     "output_type": "stream",
     "text": [
      "\n",
      "Top Performing Categories:\n",
      "\n",
      "agro_industry_and_commerce\n",
      "Success Rate: 1.000\n",
      "Total Trials: 4\n",
      "\n",
      "arts_and_craftmanship\n",
      "Success Rate: 1.000\n",
      "Total Trials: 4\n",
      "\n",
      "auto\n",
      "Success Rate: 1.000\n",
      "Total Trials: 19\n",
      "\n",
      "baby\n",
      "Success Rate: 1.000\n",
      "Total Trials: 9\n",
      "\n",
      "books_general_interest\n",
      "Success Rate: 1.000\n",
      "Total Trials: 36\n"
     ]
    },
    {
     "data": {
      "text/plain": [
       "<Figure size 864x432 with 0 Axes>"
      ]
     },
     "metadata": {},
     "output_type": "display_data"
    },
    {
     "data": {
      "image/png": "[encoded data removed]",
      "text/plain": [
       "<Figure size 1080x576 with 1 Axes>"
      ]
     },
     "metadata": {
      "needs_background": "light"
     },
     "output_type": "display_data"
    }
   ],
   "source": [
    "category_data = prepare_category_data(orders, order_items, products, reviews)\n",
    "\n",
    "final_metrics, history = simulate_recommendations(category_data)\n",
    "\n",
    "print(\"\\nTop Performing Categories:\")\n",
    "for category, metrics in sorted(\n",
    "    final_metrics.items(),\n",
    "    key=lambda x: x[1]['successes'] / x[1]['trials'] if x[1]['trials'] > 0 else 0,\n",
    "    reverse=True\n",
    ")[:5]:\n",
    "    success_rate = metrics['successes'] / metrics['trials'] if metrics['trials'] > 0 else 0\n",
    "    print(f\"\\n{category}\")\n",
    "    print(f\"Success Rate: {success_rate:.3f}\")\n",
    "    print(f\"Total Trials: {metrics['trials']}\")\n",
    "\n",
    "plt.figure(figsize=(12, 6))\n",
    "plot_results(history, category_data)\n",
    "plt.show()"
   ]
  },
  {
   "cell_type": "code",
   "execution_count": null,
   "id": "e824e053",
   "metadata": {},
   "outputs": [],
   "source": []
  }
 ],
 "metadata": {
  "kernelspec": {
   "display_name": "Python 3",
   "language": "python",
   "name": "python3"
  },
  "language_info": {
   "codemirror_mode": {
    "name": "ipython",
    "version": 3
   },
   "file_extension": ".py",
   "mimetype": "text/x-python",
   "name": "python",
   "nbconvert_exporter": "python",
   "pygments_lexer": "ipython3",
   "version": "3.8.8"
  }
 },
 "nbformat": 4,
 "nbformat_minor": 5
}
